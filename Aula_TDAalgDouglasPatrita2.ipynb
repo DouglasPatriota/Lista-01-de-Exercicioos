{
  "nbformat": 4,
  "nbformat_minor": 0,
  "metadata": {
    "colab": {
      "provenance": [],
      "authorship_tag": "ABX9TyP8V2CwokfQR1p9UOhPoUS4",
      "include_colab_link": true
    },
    "kernelspec": {
      "name": "python3",
      "display_name": "Python 3"
    },
    "language_info": {
      "name": "python"
    }
  },
  "cells": [
    {
      "cell_type": "markdown",
      "metadata": {
        "id": "view-in-github",
        "colab_type": "text"
      },
      "source": [
        "<a href=\"https://colab.research.google.com/github/DouglasPatriota/Lista-01-de-Exercicioos/blob/main/Aula_TDAalgDouglasPatrita2.ipynb\" target=\"_parent\"><img src=\"https://colab.research.google.com/assets/colab-badge.svg\" alt=\"Open In Colab\"/></a>"
      ]
    },
    {
      "cell_type": "markdown",
      "source": [
        "*Nome: Douglas Patriota Lopes*</h1> <br>\n",
        "*Turma: Ciência da Computação*\n",
        "<h1>🫀</h1>\n",
        "\n"
      ],
      "metadata": {
        "id": "BUDfUftIQKhO"
      }
    },
    {
      "cell_type": "code",
      "source": [],
      "metadata": {
        "id": "r1f-RlXsmShs"
      },
      "execution_count": null,
      "outputs": []
    },
    {
      "cell_type": "code",
      "source": [
        "#Lista de Exercícios N° 01\n",
        "\n",
        "#1. Escreva um programa que apresente na tela a frase: \"Meu primeiro programa!!!\"\n",
        "\n",
        "print(\"Meu Primeiro Programa\")."
      ],
      "metadata": {
        "id": "0Rg9gaYSQ2Pz",
        "colab": {
          "base_uri": "https://localhost:8080/"
        },
        "outputId": "9043e2d8-1af8-44cd-d571-4e7e043bf754"
      },
      "execution_count": null,
      "outputs": [
        {
          "output_type": "stream",
          "name": "stdout",
          "text": [
            "Meu Primeiro Programa\n"
          ]
        }
      ]
    },
    {
      "cell_type": "code",
      "source": [
        "\n",
        "#2. Escreva um programa que solicite ao usuário um número inteiro e ao final apresente na tela o número informado pelo usuário do programa\n",
        "#Primeiro sempre declare variável*\n",
        "\n",
        "\n",
        "numero_inteiro=int\n",
        "input=(\"digite um número inteiro\")\n",
        "print(\"numero digitado foi:\" , numero_inteiro)"
      ],
      "metadata": {
        "id": "_DkNkKAvbCZ-",
        "colab": {
          "base_uri": "https://localhost:8080/"
        },
        "outputId": "66ee2ad1-381d-49fd-84ea-b6920e2142c1"
      },
      "execution_count": null,
      "outputs": [
        {
          "output_type": "stream",
          "name": "stdout",
          "text": [
            "numero digitado foi: <class 'int'>\n"
          ]
        }
      ]
    },
    {
      "cell_type": "code",
      "execution_count": null,
      "metadata": {
        "id": "NDrKAkixP5ux",
        "colab": {
          "base_uri": "https://localhost:8080/"
        },
        "outputId": "7ca02db4-586b-45ea-afcb-c4dc9cd77a32"
      },
      "outputs": [
        {
          "output_type": "stream",
          "name": "stdout",
          "text": [
            "Digite Um número inteiro: 258\n",
            "Foi informado o seguinte valor: 258\n"
          ]
        }
      ],
      "source": [
        "#3. Escreva um programa que solicite ao usuário um número inteiro e ao final apresente na tela o número informado da seguinte forma: \"Foi informado o valor: X\"\n",
        "\n",
        "numero_inteiro = int(input(\"Digite Um número inteiro: \"))\n",
        "print(f\"Foi informado o seguinte valor: {numero_inteiro}\")"
      ]
    },
    {
      "cell_type": "code",
      "source": [
        "#4. Escreva um programa que solicite ao usuário dois números inteiros e ao final apresente na tela os dois números informados da seguinte forma: \"Voce informou os numeros X e Y\n",
        "number_one = int(input(\"Digite um número inteiro: \"))\n",
        "number_two = int(input(\"Digite outro número inteiro: \"))\n",
        "print(f\"Você informou os números {number_one} e {number_two}\")"
      ],
      "metadata": {
        "colab": {
          "base_uri": "https://localhost:8080/"
        },
        "id": "SK2P8erBniUl",
        "outputId": "6d3a3b8b-e674-46ed-ee91-6b4615e3ff1b"
      },
      "execution_count": null,
      "outputs": [
        {
          "output_type": "stream",
          "name": "stdout",
          "text": [
            "Digite um número inteiro: 263\n",
            "Digite outro número inteiro: 158\n",
            "Você informou os números 263 e 158\n"
          ]
        }
      ]
    },
    {
      "cell_type": "code",
      "source": [
        "#5. Escreva um programa que solicite ao usuário um número real e ao final apresente na tela o número informado formatado com duas casas decimais da seguinte forma: \"Voce informou o numero X.YY\n",
        "\n",
        "number_dolar_one = float(input(\"Enter a number: \"))\n",
        "number_dolar_two = float(input('Enter another number: '))\n",
        "print(f\"Você informou o número:  {number_dolar_one} e {number_dolar_two}\")"
      ],
      "metadata": {
        "colab": {
          "base_uri": "https://localhost:8080/"
        },
        "id": "NljV-C3Snug5",
        "outputId": "42021d47-c0c1-4d42-d2f2-f431479759d9"
      },
      "execution_count": null,
      "outputs": [
        {
          "output_type": "stream",
          "name": "stdout",
          "text": [
            "Enter a number: 2579.6\n",
            "Enter another number: 548.153\n",
            "Você informou o número:  2579.6 e 548.153\n"
          ]
        }
      ]
    },
    {
      "cell_type": "code",
      "source": [
        "#6. Escreva um programa que solicite ao usuário a temperatura em graus Celsius e ao final apresente a temperatura correspondente em graus Farenheit. F = Celsius * 1.8 + 32\n",
        "celsius = float(input(\"Digite a temperatura em graus Celsius: \"))\n",
        "fahrenheit = celsius * 1.8 + 32\n",
        "print(f\"A temperatura em Fahrenheit é: {fahrenheit}\")"
      ],
      "metadata": {
        "colab": {
          "base_uri": "https://localhost:8080/"
        },
        "id": "FyDFqQ7wqVUd",
        "outputId": "99a292d6-84f4-400b-8fb5-f8ebc082ca56"
      },
      "execution_count": null,
      "outputs": [
        {
          "output_type": "stream",
          "name": "stdout",
          "text": [
            "Digite a temperatura em graus Celsius: 28\n",
            "A temperatura em Fahrenheit é: 82.4\n"
          ]
        }
      ]
    },
    {
      "cell_type": "code",
      "source": [
        "#7. Escreva um programa que solicite ao usuário um número inteiro e um número real e ao final apresente na tela os dois números informados formatando com duas casas decimais somente o número real da seguinte forma: \"Voce informou os numeros N e X.YY\"\n",
        "inteiro = int(input(\"Digite um número inteiro: \"))\n",
        "real = float(input(\"Digite um número real: \"))\n",
        "print(f\"Voce informou os numeros {inteiro} e {real:.2f}\")"
      ],
      "metadata": {
        "id": "qdn1JcVcqheO"
      },
      "execution_count": null,
      "outputs": []
    },
    {
      "cell_type": "code",
      "source": [
        "#8. Escreva um programa que solicite ao usuário a primeira letra de seu nome e ao final apresente na tela a letra informada pelo usuário da seguinte forma: \"Voce digitou w\"\n",
        "letra = input(\"Digite a primeira letra do seu nome: \")\n",
        "print(f\"Voce digitou {letra}\")"
      ],
      "metadata": {
        "id": "MJ2WT79TqsFo"
      },
      "execution_count": null,
      "outputs": []
    },
    {
      "cell_type": "code",
      "source": [
        "#9. Escreva um programa que solicite ao usuário o nome de sua cor preferida e ao final apresente na tela a cor informada pelo usuário da seguinte forma: \"Voce gosta da cor AAA\"\n",
        "cor = input(\"Digite o nome de sua cor preferida: \")\n",
        "print(f\"Voce gosta da cor {cor}\")\n"
      ],
      "metadata": {
        "id": "l8bnb-jVq0CA"
      },
      "execution_count": null,
      "outputs": []
    },
    {
      "cell_type": "code",
      "source": [
        "#10. Escreva um programa que solicite ao usuário o nome de uma verdura e uma fruta de sua preferencia e ao final apresente na tela as informações digitadas pelo usuário da seguinte forma: \"Voce gosta de AAAAAAA e BBBBBBB\n",
        "verdura = input(\"Digite o nome de uma verdura: \")\n",
        "fruta = input(\"Digite o nome de uma fruta: \")\n",
        "print(f\"Voce gosta de {verdura} e {fruta}\")"
      ],
      "metadata": {
        "id": "yorpfGbmq9IS"
      },
      "execution_count": null,
      "outputs": []
    },
    {
      "cell_type": "code",
      "source": [
        "#11. Elabore um algoritmo que solicite ao usuário um número real e ao final imprima na tela o numero informado e na linha de baixo o dobro deste número da seguinte forma Numero -> X Dobro deste numero -> Y\n",
        "numero = float(input(\"Digite um número real: \"))\n",
        "dobro = numero * 2\n",
        "print(f\"Numero -> {numero}\")\n",
        "print(f\"Dobro deste numero -> {dobro}\")"
      ],
      "metadata": {
        "id": "xFB9RaPErGPw"
      },
      "execution_count": null,
      "outputs": []
    },
    {
      "cell_type": "code",
      "source": [
        "#12. Reescrever o programa anterior apresentando o quadrado e o cubo do número informado\n",
        "numero = float(input(\"Digite um número real: \"))\n",
        "quadrado = numero ** 2\n",
        "cubo = numero ** 3\n",
        "print(f\"Numero -> {numero}\")\n",
        "print(f\"Quadrado deste numero -> {quadrado}\")\n",
        "print(f\"Cubo deste numero -> {cubo}\")"
      ],
      "metadata": {
        "id": "1EMpkeD6rXH5"
      },
      "execution_count": null,
      "outputs": []
    },
    {
      "cell_type": "code",
      "source": [
        "#13. Escreva um programa que solicite ao usuário dois números inteiros e ao final apresente na tela a soma dos dois números informados da seguinte forma: \"O numeros N e X somados correspondem a Y\"\n",
        "num1 = int(input(\"Digite o primeiro número inteiro: \"))\n",
        "num2 = int(input(\"Digite o segundo número inteiro: \"))\n",
        "soma = num1 + num2\n",
        "print(f\"Os numeros {num1} e {num2} somados correspondem a {soma}\")\n"
      ],
      "metadata": {
        "id": "-0W-qqMSrb9S"
      },
      "execution_count": null,
      "outputs": []
    },
    {
      "cell_type": "code",
      "source": [
        "#14. Escreva um programa que solicite ao usuário dois números reais e ao final apresente na tela o produto dos dois números informados da seguinte forma: \"O produto dos numeros N e X corresponde a Y\"\n",
        "num1 = float(input(\"Digite o primeiro número real: \"))\n",
        "num2 = float(input(\"Digite o segundo número real: \"))\n",
        "produto = num1 * num2\n",
        "print(f\"O produto dos numeros {num1} e {num2} corresponde a {produto}\")"
      ],
      "metadata": {
        "id": "xZYdB22JrlNy"
      },
      "execution_count": null,
      "outputs": []
    },
    {
      "cell_type": "code",
      "source": [
        "#15. Refazer o programa 14 realizando as quatro operações aritméticas básicas\n",
        "\n",
        "num1 = float(input(\"Digite o primeiro número real: \"))\n",
        "num2 = float(input(\"Digite o segundo número real: \"))\n",
        "print(f\"Soma: {num1 + num2}\")\n",
        "print(f\"Subtração: {num1 - num2}\")\n",
        "print(f\"Multiplicação: {num1 * num2}\")\n",
        "print(f\"Divisão: {num1 / num2}\" )"
      ],
      "metadata": {
        "id": "ZPIwsTo7rxPk",
        "colab": {
          "base_uri": "https://localhost:8080/"
        },
        "outputId": "52557106-26b3-4b0d-d9ff-1f054ef7807f"
      },
      "execution_count": null,
      "outputs": [
        {
          "output_type": "stream",
          "name": "stdout",
          "text": [
            "Digite o primeiro número real: 156\n",
            "Digite o segundo número real: 1578\n",
            "Soma: 1734.0\n",
            "Subtração: -1422.0\n",
            "Multiplicação: 246168.0\n",
            "Divisão: 0.09885931558935361\n"
          ]
        }
      ]
    },
    {
      "cell_type": "markdown",
      "source": [
        "#ATIVIDADE LISTA 02\n",
        "*Condicionantes*"
      ],
      "metadata": {
        "id": "H8nV1q6yPZso"
      }
    },
    {
      "cell_type": "code",
      "source": [
        "#EX 01\n",
        "number_real = float(input(\"Digite um número real: \"))\n",
        "\n",
        "if number_real > 10:\n",
        "  print(\"O numero é maior que 10\")"
      ],
      "metadata": {
        "colab": {
          "base_uri": "https://localhost:8080/"
        },
        "id": "H3Ei-9KnN1z-",
        "outputId": "30931e8a-d62a-4c7a-fc19-966b2ffbd05d"
      },
      "execution_count": null,
      "outputs": [
        {
          "output_type": "stream",
          "name": "stdout",
          "text": [
            "Digite um número real: 25\n",
            "O numero é maior que 10\n"
          ]
        }
      ]
    },
    {
      "cell_type": "code",
      "source": [
        "#EX 02\n",
        "number_real = float(input(\"Digite um número real: \"))\n",
        "if number_real > 10 :\n",
        "  print(\"O número é maior ou igual á 10\")\n",
        "else:\n",
        "  print(\"O número é menor que 10\")"
      ],
      "metadata": {
        "colab": {
          "base_uri": "https://localhost:8080/"
        },
        "id": "E1I32U97OfQ0",
        "outputId": "0360ac94-d2b3-4736-e872-c65ddb84aaf8"
      },
      "execution_count": null,
      "outputs": [
        {
          "output_type": "stream",
          "name": "stdout",
          "text": [
            "Digite um número real: 258\n",
            "O número é maior que 10\n"
          ]
        }
      ]
    },
    {
      "cell_type": "code",
      "source": [
        "#3. Elabore um algoritmo que solicite ao usuário um número real e ao final imprima na tela se o número informado é maior que dez, se é menor que dez, ou se é igual a dez\n",
        "numero_real = float(input(\"Digite um número real: \"))\n",
        "if numero_real > 10:\n",
        "  print(\"O numero é Maior que 10\")\n",
        "elif numero_real < 10:\n",
        "  print(\"O número é menor que 10\")\n",
        "elif numero_real == 10:\n",
        "  print(\"O número é igual á 10 \")\n"
      ],
      "metadata": {
        "colab": {
          "base_uri": "https://localhost:8080/"
        },
        "id": "5LjrNf5APw-W",
        "outputId": "9b19b8e1-0b83-4bff-d666-9ebd04238f05"
      },
      "execution_count": null,
      "outputs": [
        {
          "output_type": "stream",
          "name": "stdout",
          "text": [
            "Digite um número real: 10\n",
            "O número é igual á 10 \n"
          ]
        }
      ]
    },
    {
      "cell_type": "code",
      "source": [
        "#4. Elabore um algoritmo que solicite ao usuário um número real e ao final imprima na tela se o número informado é positivo, negativo ou nulo (zero)\n",
        "numero_real = float(input(\"Digite um número: \"))\n",
        "if numero_real > 0 :\n",
        "  print(\"O número é positivo \")\n",
        "elif numero_real < 0:\n",
        "  print(\"O número é negativo\")\n",
        "elif numero_real == 0 :\n",
        "  print(\"O número é nulo\")"
      ],
      "metadata": {
        "colab": {
          "base_uri": "https://localhost:8080/"
        },
        "id": "L-nqcet2QqWj",
        "outputId": "6c9615a2-2fd7-4851-b00b-86c00e430d9b"
      },
      "execution_count": null,
      "outputs": [
        {
          "output_type": "stream",
          "name": "stdout",
          "text": [
            "Digite um número: 145\n",
            "O número é positivo \n"
          ]
        }
      ]
    },
    {
      "cell_type": "code",
      "source": [
        "#5. Elabore um algoritmo que leia um número inteiro e imprima uma das mensagens: é múltiplo de 3, ou, não é múltiplo de 3\n",
        "numero_inteiro = int(input(\"Digite um Multiplo de 3 : \"))\n",
        "if numero_inteiro % 3 == 0 :\n",
        "  print(\"O numero é multiplo de 3\")\n",
        "elif numero_inteiro % 3 != 0:\n",
        "  print(\"O número não é multiplo de 3\")"
      ],
      "metadata": {
        "colab": {
          "base_uri": "https://localhost:8080/"
        },
        "id": "V-WUYNR1R5nH",
        "outputId": "c539f463-86dd-4f9f-9481-5cbea5ea0e9e"
      },
      "execution_count": null,
      "outputs": [
        {
          "output_type": "stream",
          "name": "stdout",
          "text": [
            "Digite um número Qualquer: 145\n",
            "O número não é multiplo de 3\n"
          ]
        }
      ]
    },
    {
      "cell_type": "code",
      "source": [
        "#6. Refazer o exercício anterior, solicitando antes o múltiplo a ser testado\n",
        "numero_inteiro = int(input(\"Digite um número inteiro: \"))\n",
        "multiplo_teste = int(input(\"Digite o múltiplo a ser testado: \"))\n",
        "if numero_inteiro % multiplo_teste == 0:\n",
        "  print(f\"O número {numero_inteiro} é múltiplo de {multiplo_teste}\")\n",
        "else:\n",
        "  print(f\"O número {numero_inteiro} não é múltiplo de {multiplo_teste}\")"
      ],
      "metadata": {
        "colab": {
          "base_uri": "https://localhost:8080/"
        },
        "id": "PgPkRKM2UakC",
        "outputId": "e1b4a416-1ebd-4265-cbb7-a91bede3aae1"
      },
      "execution_count": null,
      "outputs": [
        {
          "output_type": "stream",
          "name": "stdout",
          "text": [
            "Digite um número inteiro: 258\n",
            "Digite o múltiplo a ser testado: 2\n",
            "O número 258 é múltiplo de 2\n"
          ]
        }
      ]
    },
    {
      "cell_type": "code",
      "source": [
        "#7. Desenvolva um algoritmo que classifique um número inteiro fornecido pelo usuário como par ou ímpar\n",
        "numero_inteiro = int(input(\"Digite um número Para saber se é Par ou Ímpar: \"))\n",
        "if numero_inteiro % 2 == 0:\n",
        "  print(\"O número é par\")\n",
        "else\n",
        "  print(\"O Número é impar\")"
      ],
      "metadata": {
        "colab": {
          "base_uri": "https://localhost:8080/"
        },
        "id": "DiuXJZQgUCre",
        "outputId": "6dfbc3ec-893f-4bd7-a19e-9c6087fab58b"
      },
      "execution_count": null,
      "outputs": [
        {
          "output_type": "stream",
          "name": "stdout",
          "text": [
            "Digite um número Para saber se é Par ou Ímpar158\n",
            "O número é par\n"
          ]
        }
      ]
    },
    {
      "cell_type": "code",
      "source": [
        "#8. Elabore um algoritmo que leia um número, e se ele for maior do que 20, imprimir a metade desse número, caso contrário, imprimir o dobro do número\n",
        "valor = int(input(\"Digite um valor: \"))\n",
        "if valor > 20:\n",
        "  print(f\"A metade do valor é: {valor /2}\")\n",
        "else:\n",
        "  print(f\"O dobro do valor é : {valor *2}\")"
      ],
      "metadata": {
        "colab": {
          "base_uri": "https://localhost:8080/"
        },
        "id": "CpTA5eRpWJZs",
        "outputId": "ce44bf1b-7777-4936-fe78-d6f684354f08"
      },
      "execution_count": null,
      "outputs": [
        {
          "output_type": "stream",
          "name": "stdout",
          "text": [
            "Digite um valor: 25\n",
            "A metade do valor é: 12.5\n"
          ]
        }
      ]
    },
    {
      "cell_type": "code",
      "source": [
        "#9. Elabore um algoritmo que leia dois números inteiros e realize a adição; caso o resultado seja maior que 10, imprima o quadrado do resultado, caso contrário, imprima a metade dele\n",
        "valor1 = int(input(\"Digite um valor: \"))\n",
        "valor2 = int(input(\"Digite outro valor: \"))\n",
        "resultado = valor1 + valor2\n",
        "if resultado > 10:\n",
        "  print(f\"O número {resultado} é maior que 10 \")\n",
        "else:\n",
        "  print(f\"A metade do número {resultado / 2} é \")"
      ],
      "metadata": {
        "colab": {
          "base_uri": "https://localhost:8080/"
        },
        "id": "DKfFSPHpdRam",
        "outputId": "3c2ab95b-b31e-4e4f-ccea-15fbf4e51925"
      },
      "execution_count": null,
      "outputs": [
        {
          "output_type": "stream",
          "name": "stdout",
          "text": [
            "Digite um valor: 2\n",
            "Digite outro valor: 6\n",
            "A metade do número 4.0 é \n"
          ]
        }
      ]
    },
    {
      "cell_type": "code",
      "source": [
        "#10. O sistema de avaliação de determinada disciplina é composto por três provas. A primeira prova tem peso 2, a segunda tem peso 3 e a terceira tem peso 5. Considerando que a média para aprovação é 6.0, faça um algoritmo para calcular a média final de um aluno desta disciplina e dizer se o aluno foi aprovado ou não\n",
        "nota1 = float(input(\"Digite a nota 1: \"))\n",
        "nota2 = float(input(\"Digite a nota 2: \"))\n",
        "nota3 = float(input(\"Digite a nota 3: \"))\n",
        "peso1 = nota1 * 2\n",
        "peso2 = nota2 * 3\n",
        "peso3 = nota3 * 5\n",
        "media = (peso1 + peso2 + peso3) / (2 + 3 + 5)\n",
        "\n",
        "if media >= 6:\n",
        "    print(f\"Sua nota da prova é {media:.2f}, você está Aprovado\")\n",
        "else:\n",
        "  print(f\"Sua nota da prova é {media:.2f}, Reprovado\")"
      ],
      "metadata": {
        "colab": {
          "base_uri": "https://localhost:8080/"
        },
        "id": "gyFsTDZXhXLE",
        "outputId": "3355f120-d919-49b9-c32f-02ea59aca3fa"
      },
      "execution_count": null,
      "outputs": [
        {
          "output_type": "stream",
          "name": "stdout",
          "text": [
            "Digite a nota 1: 4\n",
            "Digite a nota 2: 7\n",
            "Digite a nota 3: 9\n",
            "Sua nota da prova é 7.40, você está Aprovado\n"
          ]
        }
      ]
    },
    {
      "cell_type": "code",
      "source": [
        "#11. Elabore um algoritmo que leia o nome e o peso de duas pessoas e imprima o nome da pessoa mais pesada\n",
        "\n",
        "nome_pessoa = input(str(\"Digite o nome da primeira pessoa: \"))\n",
        "nome_pessoa2 = input(str(\"Digite o nome da segunda pessoa: \"))\n",
        "peso_pessoa_str = input(\"Digite o peso da primeira pessoa: \")\n",
        "peso_pessoa2_str = input(\"Digite o peso da segunda pessoa: \")\n",
        "\n",
        "peso_pessoa = float(peso_pessoa_str.replace(',', '.'))\n",
        "peso_pessoa2 = float(peso_pessoa2_str.replace(',', '.'))\n",
        "\n",
        "if peso_pessoa > peso_pessoa2:\n",
        "  print(f\"A pessoa mais pesada é {nome_pessoa}\")\n",
        "elif peso_pessoa < peso_pessoa2:\n",
        "  print(f\"A pessoa mais pesada é {nome_pessoa2}\")\n",
        "else:\n",
        "  print(\"As pessoas tem o mesmo peso\")"
      ],
      "metadata": {
        "colab": {
          "base_uri": "https://localhost:8080/"
        },
        "id": "5bg-shY8Honw",
        "outputId": "5f1e449a-9248-49ae-a79c-8ac0047046c0"
      },
      "execution_count": null,
      "outputs": [
        {
          "output_type": "stream",
          "name": "stdout",
          "text": [
            "Digite o nome da primeira pessoa: 25\n",
            "Digite o nome da segunda pessoa: 36\n",
            "Digite o peso da primeira pessoa: 31,6\n",
            "Digite o peso da segunda pessoa: 25,\n",
            "A pessoa mais pesada é 25\n"
          ]
        }
      ]
    },
    {
      "cell_type": "code",
      "source": [
        "#12. Elabore um algoritmo que indique se um número digitado está compreendido entre 20 e 90, ou não\n",
        "numero = float(input(\"Digite um número: \"))\n",
        "if numero > 20 and numero < 90:\n",
        "  print(\"O número está compreendido entre 20 e 90\")\n",
        "elif numero < 20 or numero > 90:\n",
        "  print(\"O número não está compreendido entre 20 e 90\")\n",
        "else:\n",
        "  print(\"O número é 20 ou 90\")"
      ],
      "metadata": {
        "colab": {
          "base_uri": "https://localhost:8080/"
        },
        "id": "2RECKy07Jnpu",
        "outputId": "d1c18973-e457-40b6-d54c-9c49fe9235cd"
      },
      "execution_count": null,
      "outputs": [
        {
          "output_type": "stream",
          "name": "stdout",
          "text": [
            "Digite um número: 20\n",
            "O número é 20 ou 90\n"
          ]
        }
      ]
    },
    {
      "cell_type": "code",
      "source": [
        "#13. Elabore um algoritmo que leia dois números e imprima qual é maior, qual é menor, ou se são iguais\n",
        "primeiro_numero = int(input(\"Digite um número: \"))\n",
        "segundo_numero = int(input(\"Digite outro número: \"))\n",
        "if primeiro_numero > segundo_numero:\n",
        "  print(f\"O número {primeiro_numero} é maior que o {segundo_numero}. \")\n",
        "elif primeiro_numero < segundo_numero:\n",
        "  print(f\"O número {primeiro_numero} é menor que o {segundo_numero}\")\n",
        "else:\n",
        "  print(f\"Os números {primeiro_numero} e {segundo_numero} são iguais\")"
      ],
      "metadata": {
        "colab": {
          "base_uri": "https://localhost:8080/"
        },
        "id": "r4qppUAZKbcD",
        "outputId": "9859b3ca-6c4a-401f-a1a5-9a888e28f72b"
      },
      "execution_count": null,
      "outputs": [
        {
          "output_type": "stream",
          "name": "stdout",
          "text": [
            "Digite um número: 23\n",
            "Digite outro número: 19\n",
            "O número 23 é maior que o 19. \n"
          ]
        }
      ]
    },
    {
      "cell_type": "code",
      "source": [
        "#14. Escreva um programa em linguagem C que solicite ao usuário a média para aprovação\n",
        "#em um curso e em seguida solicite ao usuário o nome, sexo e as 03 notas do aluno e ao\n",
        "#final imprima a frase: \"O aluno XXXXX foi aprovado com media YY\" considerando o gênero\n",
        "#do(a) aluno(a) e se foi aprovado(a) ou reprovado(a)\n",
        "\n",
        "media_aprovacao = float(input(\"Digite a média para aprovação: \"))\n",
        "nome_aluno = str(input(\"Digite seu nome: \"))\n",
        "sexo_aluno = str(input(\"Digite seu sexo: \"))\n",
        "nota1 = float(input(\"Digite a primeira nota: \"))\n",
        "nota2 = float(input(\"Digite a segunda nota: \"))\n",
        "nota3 = float(input(\"Digite a terceira nota: \"))\n",
        "media_aluno = (nota1 + nota2 + nota3) / 3\n",
        "\n",
        "if media_aluno >= media_aprovacao:\n",
        "  print(f\"O aluno {nome_aluno} foi aprovado com a média {media_aluno}\")\n",
        "elif media_aluno < media_aprovacao:\n",
        "  print(f\"O aluno {nome_aluno} foi reprovado com a média {media_aluno}\")"
      ],
      "metadata": {
        "colab": {
          "base_uri": "https://localhost:8080/"
        },
        "id": "nfIMotzgNKlI",
        "outputId": "802e17e0-0880-48cc-ad75-65bdd4c964fc"
      },
      "execution_count": null,
      "outputs": [
        {
          "output_type": "stream",
          "name": "stdout",
          "text": [
            "Digite a média para aprovação: 6\n",
            "Digite seu nome: Douglas\n",
            "Digite seu sexo: Masculino\n",
            "Digite a primeira nota: 5\n",
            "Digite a segunda nota: 3\n",
            "Digite a terceira nota: 7\n",
            "O aluno Douglas foi reprovado com a média5.0\n"
          ]
        }
      ]
    },
    {
      "cell_type": "code",
      "source": [
        "#1. Elabore um algoritmo que imprima na tela lado a lado o texto \"Hello World!\" 10 vezes\n",
        "for i in range(10):\n",
        "    print(\"Hello World!\", end=\" \")\n"
      ],
      "metadata": {
        "colab": {
          "base_uri": "https://localhost:8080/"
        },
        "id": "sTvcKhH1-eCn",
        "outputId": "fb6d972a-bfcd-4c02-d1e1-c890a005a89d"
      },
      "execution_count": 1,
      "outputs": [
        {
          "output_type": "stream",
          "name": "stdout",
          "text": [
            "Hello World! Hello World! Hello World! Hello World! Hello World! Hello World! Hello World! Hello World! Hello World! Hello World! "
          ]
        }
      ]
    },
    {
      "cell_type": "code",
      "source": [
        "#2. Elabore um algoritmo que imprima na tela o texto \"Hello World!\" 10 vezes, um por linha.\n",
        "for i in range(10):\n",
        "    print(\"Hello World!\")\n"
      ],
      "metadata": {
        "id": "yQdjYAhp-uMP"
      },
      "execution_count": null,
      "outputs": []
    },
    {
      "cell_type": "code",
      "source": [
        "#3. Elabore um algoritmo que imprima todos os números inteiros de 1 até 100 inclusive\n",
        "for i in range(1, 101):\n",
        "    print(i)\n"
      ],
      "metadata": {
        "id": "sF4gAdOJ-0Sc"
      },
      "execution_count": null,
      "outputs": []
    },
    {
      "cell_type": "code",
      "source": [
        "#4. Elabore um algoritmo que imprima 100 vezes o texto \"1- Hello World!\" com o número.\n",
        "for i in range(1, 101):\n",
        "    print(f\"{i}- Hello World!\")\n"
      ],
      "metadata": {
        "id": "UiUjwZ0B-1dV"
      },
      "execution_count": null,
      "outputs": []
    },
    {
      "cell_type": "code",
      "source": [
        "#5. Elabore um algoritmo que imprima todos os números decrescentes de 100 até 0 inclusive\n",
        "for i in range(100, -1, -1):\n",
        "    print(i)\n"
      ],
      "metadata": {
        "id": "XnVObz-4-2L4"
      },
      "execution_count": null,
      "outputs": []
    },
    {
      "cell_type": "code",
      "source": [
        "#6. Elabore um algoritmo que imprima todos os números pares inteiros de 1 até 1000.\n",
        "for i in range(2, 1001, 2):\n",
        "    print(i)\n"
      ],
      "metadata": {
        "id": "KZaJ_hMQ-25f"
      },
      "execution_count": null,
      "outputs": []
    },
    {
      "cell_type": "code",
      "source": [
        "#7. Elabore um algoritmo que imprima todos os números ímpares de 1000 até 0\n",
        "for i in range(999, -1, -2):\n",
        "    print(i)\n"
      ],
      "metadata": {
        "id": "bCPpafva-3YT"
      },
      "execution_count": null,
      "outputs": []
    },
    {
      "cell_type": "code",
      "source": [
        "#8. Elabore um algoritmo que imprima a soma dos 100 primeiros números inteiros positivos.\n",
        "soma = 0\n",
        "for i in range(1, 101):\n",
        "    soma += i\n",
        "print(\"Soma dos 100 primeiros números =\", soma)\n"
      ],
      "metadata": {
        "id": "EB7F8QMR_BbF"
      },
      "execution_count": null,
      "outputs": []
    },
    {
      "cell_type": "code",
      "source": [
        "#9. Elabore um algoritmo que solicite ao usuário um número inteiro que indicará a quantidade de vezes que o texto \"Hello World!\" será impresso na tela, um em cada linha.\n",
        "n = int(input(\"Digite um número inteiro: \"))\n",
        "for i in range(n):\n",
        "    print(\"Hello World!\")\n"
      ],
      "metadata": {
        "id": "oiQt8n2__FJR"
      },
      "execution_count": null,
      "outputs": []
    },
    {
      "cell_type": "code",
      "source": [
        "#10. Elabore um algoritmo que solicite ao usuário uma palavra e um número inteiro que indicará a quantidade de vezes que a palavra digitada será impressa na tela, um em cada linha.\n",
        "palavra = input(\"Digite uma palavra: \")\n",
        "n = int(input(\"Digite um número inteiro: \"))\n",
        "\n",
        "for i in range(n):\n",
        "    print(palavra)\n"
      ],
      "metadata": {
        "id": "pkpOReVj_ICW"
      },
      "execution_count": null,
      "outputs": []
    },
    {
      "cell_type": "code",
      "source": [
        "#11. Elabore um algoritmo que leia um número de entrada que indicará a quantidade de números a serem lidos. Em seguida, leia n números (conforme o valor informado anteriormente) e imprima a soma e a média aritmética dos números informados.\n",
        "n = int(input(\"Quantos números você vai digitar? \"))\n",
        "\n",
        "soma = 0\n",
        "for i in range(n):\n",
        "    num = float(input(f\"Digite o {i+1}º número: \"))\n",
        "    soma += num\n",
        "\n",
        "media = soma / n\n",
        "print(\"Soma =\", soma)\n",
        "print(\"Média =\", media)\n"
      ],
      "metadata": {
        "id": "TKiIfkp-_LeI"
      },
      "execution_count": null,
      "outputs": []
    },
    {
      "cell_type": "code",
      "source": [
        "#12. Elabore um algoritmo que leia um número de entrada que indicará a quantidade de registros a serem lidos (N). Em seguida algoritmo deve solicitar o nome e idade de N pessoas e ao final apresentar o nome da pessoa mais velha.\n",
        "n = int(input(\"Quantas pessoas? \"))\n",
        "\n",
        "mais_velho = \"\"\n",
        "idade_max = -1\n",
        "\n",
        "for i in range(n):\n",
        "    nome = input(\"Nome: \")\n",
        "    idade = int(input(\"Idade: \"))\n",
        "\n",
        "    if idade > idade_max:\n",
        "        idade_max = idade\n",
        "        mais_velho = nome\n",
        "\n",
        "print(\"Pessoa mais velha:\", mais_velho, \"-\", idade_max, \"anos\")\n"
      ],
      "metadata": {
        "id": "3mNpigt9_Pxj"
      },
      "execution_count": null,
      "outputs": []
    },
    {
      "cell_type": "code",
      "source": [
        "#13. Elabore um algoritmo que leia um número de entrada que indicará a quantidade de\n",
        "#registros a serem lidos (N). Em seguida algoritmo deve solicitar o sexo (M/F) e idade de N\n",
        "#pessoas e ao final apresentar a média de idade de ambos os gêneros catalogados.\n",
        "n = int(input(\"Quantos registros? \"))\n",
        "\n",
        "soma_m = soma_f = 0\n",
        "cont_m = cont_f = 0\n",
        "\n",
        "for i in range(n):\n",
        "    sexo = input(\"Sexo (M/F): \").upper()\n",
        "    idade = int(input(\"Idade: \"))\n",
        "\n",
        "    if sexo == \"M\":\n",
        "        soma_m += idade\n",
        "        cont_m += 1\n",
        "    elif sexo == \"F\":\n",
        "        soma_f += idade\n",
        "        cont_f += 1\n",
        "\n",
        "if cont_m > 0:\n",
        "    print(\"Média idade (M):\", soma_m / cont_m)\n",
        "if cont_f > 0:\n",
        "    print(\"Média idade (F):\", soma_f / cont_f)\n"
      ],
      "metadata": {
        "id": "ho3C8TAA_V0p"
      },
      "execution_count": null,
      "outputs": []
    },
    {
      "cell_type": "code",
      "source": [
        "#14. Elabore um algoritmo que solicite ao usuário 10 números reais e ao final apresente o maior e o menor deles.\n",
        "maior = float(\"-inf\")\n",
        "menor = float(\"inf\")\n",
        "\n",
        "for i in range(10):\n",
        "    num = float(input(f\"Digite o {i+1}º número: \"))\n",
        "    if num > maior:\n",
        "        maior = num\n",
        "    if num < menor:\n",
        "        menor = num\n",
        "\n",
        "print(\"Maior número =\", maior)\n",
        "print(\"Menor número =\", menor)\n"
      ],
      "metadata": {
        "id": "IgqO10tR_aFH"
      },
      "execution_count": null,
      "outputs": []
    },
    {
      "cell_type": "code",
      "source": [
        "#15. Elabore um algoritmo que solicite N números reais e quando o usuário informar o valor\n",
        "#nulo 0 (zero) o programa ordene e mostre todos os números informados de forma crescente.\n",
        "numeros = []\n",
        "\n",
        "while True:\n",
        "    num = float(input(\"Digite um número (0 para parar): \"))\n",
        "    if num == 0:\n",
        "        break\n",
        "    numeros.append(num)\n",
        "\n",
        "numeros.sort()\n",
        "print(\"Números em ordem crescente:\", numeros)\n"
      ],
      "metadata": {
        "id": "M5p2BCeW_dyM"
      },
      "execution_count": null,
      "outputs": []
    },
    {
      "cell_type": "code",
      "source": [
        "#16. Escreva um programa que vá solicitando as idades dos alunos da sala até que todos\n",
        "#sejam informados (perguntar ao usuário se deseja informar a idade do próximo aluno). Ao\n",
        "#final apresentar a idade do mais novo, a idade do mais velho, Quantos alunos têm mais de\n",
        "#18 anos, quantos alunos têm até 18 anos, a média aritmética e a mediana\n",
        "idades = []\n",
        "\n",
        "while True:\n",
        "    idade = int(input(\"Digite a idade do aluno: \"))\n",
        "    idades.append(idade)\n",
        "\n",
        "    continuar = input(\"Deseja informar outra idade? (S/N): \").upper()\n",
        "    if continuar == \"N\":\n",
        "        break\n",
        "\n",
        "mais_novo = min(idades)\n",
        "mais_velho = max(idades)\n",
        "maiores_18 = sum(1 for i in idades if i > 18)\n",
        "ate_18 = sum(1 for i in idades if i <= 18)\n",
        "media = sum(idades) / len(idades)\n",
        "\n",
        "idades.sort()\n",
        "n = len(idades)\n",
        "if n % 2 == 1:\n",
        "    mediana = idades[n // 2]\n",
        "else:\n",
        "    mediana = (idades[n // 2 - 1] + idades[n // 2]) / 2\n",
        "\n",
        "print(\"Mais novo:\", mais_novo)\n",
        "print(\"Mais velho:\", mais_velho)\n",
        "print(\"Alunos maiores de 18:\", maiores_18)\n",
        "print(\"Alunos com até 18:\", ate_18)\n",
        "print(\"Média das idades:\", media)\n",
        "print(\"Mediana das idades:\", mediana)\n"
      ],
      "metadata": {
        "id": "rNfo4-St_g2J"
      },
      "execution_count": null,
      "outputs": []
    }
  ]
}