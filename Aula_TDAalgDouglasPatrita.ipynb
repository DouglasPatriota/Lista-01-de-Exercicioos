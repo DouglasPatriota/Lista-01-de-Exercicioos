{
  "nbformat": 4,
  "nbformat_minor": 0,
  "metadata": {
    "colab": {
      "provenance": [],
      "authorship_tag": "ABX9TyOwrOg6/DAfjhbeWa0ZPRMt",
      "include_colab_link": true
    },
    "kernelspec": {
      "name": "python3",
      "display_name": "Python 3"
    },
    "language_info": {
      "name": "python"
    }
  },
  "cells": [
    {
      "cell_type": "markdown",
      "metadata": {
        "id": "view-in-github",
        "colab_type": "text"
      },
      "source": [
        "<a href=\"https://colab.research.google.com/github/WornHick/Lista-01-de-Exercicioos/blob/main/Aula_TDAalgDouglasPatrita.ipynb\" target=\"_parent\"><img src=\"https://colab.research.google.com/assets/colab-badge.svg\" alt=\"Open In Colab\"/></a>"
      ]
    },
    {
      "cell_type": "markdown",
      "source": [
        "*Nome: Douglas Patriota Lopes*</h1> <br>\n",
        "*Turma: Ciência da Computação*\n",
        "<h1>🫀</h1>\n",
        "\n"
      ],
      "metadata": {
        "id": "BUDfUftIQKhO"
      }
    },
    {
      "cell_type": "code",
      "source": [],
      "metadata": {
        "id": "r1f-RlXsmShs"
      },
      "execution_count": null,
      "outputs": []
    },
    {
      "cell_type": "code",
      "source": [
        "#Lista de Exercícios N° 01\n",
        "\n",
        "#1. Escreva um programa que apresente na tela a frase: \"Meu primeiro programa!!!\"\n",
        "\n",
        "print(\"Meu Primeiro Programa\")."
      ],
      "metadata": {
        "id": "0Rg9gaYSQ2Pz",
        "colab": {
          "base_uri": "https://localhost:8080/"
        },
        "outputId": "9043e2d8-1af8-44cd-d571-4e7e043bf754"
      },
      "execution_count": null,
      "outputs": [
        {
          "output_type": "stream",
          "name": "stdout",
          "text": [
            "Meu Primeiro Programa\n"
          ]
        }
      ]
    },
    {
      "cell_type": "code",
      "source": [
        "\n",
        "#2. Escreva um programa que solicite ao usuário um número inteiro e ao final apresente na tela o número informado pelo usuário do programa\n",
        "#Primeiro sempre declare variável*\n",
        "\n",
        "\n",
        "numero_inteiro=int\n",
        "input=(\"digite um número inteiro\")\n",
        "print(\"numero digitado foi:\" , numero_inteiro)"
      ],
      "metadata": {
        "id": "_DkNkKAvbCZ-",
        "colab": {
          "base_uri": "https://localhost:8080/"
        },
        "outputId": "66ee2ad1-381d-49fd-84ea-b6920e2142c1"
      },
      "execution_count": null,
      "outputs": [
        {
          "output_type": "stream",
          "name": "stdout",
          "text": [
            "numero digitado foi: <class 'int'>\n"
          ]
        }
      ]
    },
    {
      "cell_type": "code",
      "execution_count": null,
      "metadata": {
        "id": "NDrKAkixP5ux",
        "colab": {
          "base_uri": "https://localhost:8080/"
        },
        "outputId": "7ca02db4-586b-45ea-afcb-c4dc9cd77a32"
      },
      "outputs": [
        {
          "output_type": "stream",
          "name": "stdout",
          "text": [
            "Digite Um número inteiro: 258\n",
            "Foi informado o seguinte valor: 258\n"
          ]
        }
      ],
      "source": [
        "#3. Escreva um programa que solicite ao usuário um número inteiro e ao final apresente na tela o número informado da seguinte forma: \"Foi informado o valor: X\"\n",
        "\n",
        "numero_inteiro = int(input(\"Digite Um número inteiro: \"))\n",
        "print(f\"Foi informado o seguinte valor: {numero_inteiro}\")"
      ]
    },
    {
      "cell_type": "code",
      "source": [
        "#4. Escreva um programa que solicite ao usuário dois números inteiros e ao final apresente na tela os dois números informados da seguinte forma: \"Voce informou os numeros X e Y\n",
        "number_one = int(input(\"Digite um número inteiro: \"))\n",
        "number_two = int(input(\"Digite outro número inteiro: \"))\n",
        "print(f\"Você informou os números {number_one} e {number_two}\")"
      ],
      "metadata": {
        "colab": {
          "base_uri": "https://localhost:8080/"
        },
        "id": "SK2P8erBniUl",
        "outputId": "6d3a3b8b-e674-46ed-ee91-6b4615e3ff1b"
      },
      "execution_count": null,
      "outputs": [
        {
          "output_type": "stream",
          "name": "stdout",
          "text": [
            "Digite um número inteiro: 263\n",
            "Digite outro número inteiro: 158\n",
            "Você informou os números 263 e 158\n"
          ]
        }
      ]
    },
    {
      "cell_type": "code",
      "source": [
        "#5. Escreva um programa que solicite ao usuário um número real e ao final apresente na tela o número informado formatado com duas casas decimais da seguinte forma: \"Voce informou o numero X.YY\n",
        "\n",
        "number_dolar_one = float(input(\"Enter a number: \"))\n",
        "number_dolar_two = float(input('Enter another number: '))\n",
        "print(f\"Você informou o número:  {number_dolar_one} e {number_dolar_two}\")"
      ],
      "metadata": {
        "colab": {
          "base_uri": "https://localhost:8080/"
        },
        "id": "NljV-C3Snug5",
        "outputId": "42021d47-c0c1-4d42-d2f2-f431479759d9"
      },
      "execution_count": null,
      "outputs": [
        {
          "output_type": "stream",
          "name": "stdout",
          "text": [
            "Enter a number: 2579.6\n",
            "Enter another number: 548.153\n",
            "Você informou o número:  2579.6 e 548.153\n"
          ]
        }
      ]
    },
    {
      "cell_type": "code",
      "source": [
        "#6. Escreva um programa que solicite ao usuário a temperatura em graus Celsius e ao final apresente a temperatura correspondente em graus Farenheit. F = Celsius * 1.8 + 32\n",
        "celsius = float(input(\"Digite a temperatura em graus Celsius: \"))\n",
        "fahrenheit = celsius * 1.8 + 32\n",
        "print(f\"A temperatura em Fahrenheit é: {fahrenheit}\")"
      ],
      "metadata": {
        "colab": {
          "base_uri": "https://localhost:8080/"
        },
        "id": "FyDFqQ7wqVUd",
        "outputId": "99a292d6-84f4-400b-8fb5-f8ebc082ca56"
      },
      "execution_count": null,
      "outputs": [
        {
          "output_type": "stream",
          "name": "stdout",
          "text": [
            "Digite a temperatura em graus Celsius: 28\n",
            "A temperatura em Fahrenheit é: 82.4\n"
          ]
        }
      ]
    },
    {
      "cell_type": "code",
      "source": [
        "#7. Escreva um programa que solicite ao usuário um número inteiro e um número real e ao final apresente na tela os dois números informados formatando com duas casas decimais somente o número real da seguinte forma: \"Voce informou os numeros N e X.YY\"\n",
        "inteiro = int(input(\"Digite um número inteiro: \"))\n",
        "real = float(input(\"Digite um número real: \"))\n",
        "print(f\"Voce informou os numeros {inteiro} e {real:.2f}\")"
      ],
      "metadata": {
        "id": "qdn1JcVcqheO"
      },
      "execution_count": null,
      "outputs": []
    },
    {
      "cell_type": "code",
      "source": [
        "#8. Escreva um programa que solicite ao usuário a primeira letra de seu nome e ao final apresente na tela a letra informada pelo usuário da seguinte forma: \"Voce digitou w\"\n",
        "letra = input(\"Digite a primeira letra do seu nome: \")\n",
        "print(f\"Voce digitou {letra}\")"
      ],
      "metadata": {
        "id": "MJ2WT79TqsFo"
      },
      "execution_count": null,
      "outputs": []
    },
    {
      "cell_type": "code",
      "source": [
        "#9. Escreva um programa que solicite ao usuário o nome de sua cor preferida e ao final apresente na tela a cor informada pelo usuário da seguinte forma: \"Voce gosta da cor AAA\"\n",
        "cor = input(\"Digite o nome de sua cor preferida: \")\n",
        "print(f\"Voce gosta da cor {cor}\")\n"
      ],
      "metadata": {
        "id": "l8bnb-jVq0CA"
      },
      "execution_count": null,
      "outputs": []
    },
    {
      "cell_type": "code",
      "source": [
        "#10. Escreva um programa que solicite ao usuário o nome de uma verdura e uma fruta de sua preferencia e ao final apresente na tela as informações digitadas pelo usuário da seguinte forma: \"Voce gosta de AAAAAAA e BBBBBBB\n",
        "verdura = input(\"Digite o nome de uma verdura: \")\n",
        "fruta = input(\"Digite o nome de uma fruta: \")\n",
        "print(f\"Voce gosta de {verdura} e {fruta}\")"
      ],
      "metadata": {
        "id": "yorpfGbmq9IS"
      },
      "execution_count": null,
      "outputs": []
    },
    {
      "cell_type": "code",
      "source": [
        "#11. Elabore um algoritmo que solicite ao usuário um número real e ao final imprima na tela o numero informado e na linha de baixo o dobro deste número da seguinte forma Numero -> X Dobro deste numero -> Y\n",
        "numero = float(input(\"Digite um número real: \"))\n",
        "dobro = numero * 2\n",
        "print(f\"Numero -> {numero}\")\n",
        "print(f\"Dobro deste numero -> {dobro}\")"
      ],
      "metadata": {
        "id": "xFB9RaPErGPw"
      },
      "execution_count": null,
      "outputs": []
    },
    {
      "cell_type": "code",
      "source": [
        "#12. Reescrever o programa anterior apresentando o quadrado e o cubo do número informado\n",
        "numero = float(input(\"Digite um número real: \"))\n",
        "quadrado = numero ** 2\n",
        "cubo = numero ** 3\n",
        "print(f\"Numero -> {numero}\")\n",
        "print(f\"Quadrado deste numero -> {quadrado}\")\n",
        "print(f\"Cubo deste numero -> {cubo}\")"
      ],
      "metadata": {
        "id": "1EMpkeD6rXH5"
      },
      "execution_count": null,
      "outputs": []
    },
    {
      "cell_type": "code",
      "source": [
        "#13. Escreva um programa que solicite ao usuário dois números inteiros e ao final apresente na tela a soma dos dois números informados da seguinte forma: \"O numeros N e X somados correspondem a Y\"\n",
        "num1 = int(input(\"Digite o primeiro número inteiro: \"))\n",
        "num2 = int(input(\"Digite o segundo número inteiro: \"))\n",
        "soma = num1 + num2\n",
        "print(f\"Os numeros {num1} e {num2} somados correspondem a {soma}\")\n"
      ],
      "metadata": {
        "id": "-0W-qqMSrb9S"
      },
      "execution_count": null,
      "outputs": []
    },
    {
      "cell_type": "code",
      "source": [
        "#14. Escreva um programa que solicite ao usuário dois números reais e ao final apresente na tela o produto dos dois números informados da seguinte forma: \"O produto dos numeros N e X corresponde a Y\"\n",
        "num1 = float(input(\"Digite o primeiro número real: \"))\n",
        "num2 = float(input(\"Digite o segundo número real: \"))\n",
        "produto = num1 * num2\n",
        "print(f\"O produto dos numeros {num1} e {num2} corresponde a {produto}\")"
      ],
      "metadata": {
        "id": "xZYdB22JrlNy"
      },
      "execution_count": null,
      "outputs": []
    },
    {
      "cell_type": "code",
      "source": [
        "#15. Refazer o programa 14 realizando as quatro operações aritméticas básicas\n",
        "\n",
        "num1 = float(input(\"Digite o primeiro número real: \"))\n",
        "num2 = float(input(\"Digite o segundo número real: \"))\n",
        "print(f\"Soma: {num1 + num2}\")\n",
        "print(f\"Subtração: {num1 - num2}\")\n",
        "print(f\"Multiplicação: {num1 * num2}\")\n",
        "print(f\"Divisão: {num1 / num2}\")"
      ],
      "metadata": {
        "id": "ZPIwsTo7rxPk",
        "colab": {
          "base_uri": "https://localhost:8080/",
          "height": 0
        },
        "outputId": "52557106-26b3-4b0d-d9ff-1f054ef7807f"
      },
      "execution_count": 1,
      "outputs": [
        {
          "output_type": "stream",
          "name": "stdout",
          "text": [
            "Digite o primeiro número real: 156\n",
            "Digite o segundo número real: 1578\n",
            "Soma: 1734.0\n",
            "Subtração: -1422.0\n",
            "Multiplicação: 246168.0\n",
            "Divisão: 0.09885931558935361\n"
          ]
        }
      ]
    }
  ]
}